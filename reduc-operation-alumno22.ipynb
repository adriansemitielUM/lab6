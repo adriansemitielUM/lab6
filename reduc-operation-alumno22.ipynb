{
 "cells": [
  {
   "cell_type": "markdown",
   "id": "f942d288-be01-42cd-9b84-83529c6769be",
   "metadata": {},
   "source": [
    "### Reduction operation: the sum of the numbers in the range [0, a)"
   ]
  },
  {
   "cell_type": "code",
   "execution_count": 2,
   "id": "496946fa-2a28-4c1d-8a6a-2ee0b8fd8ced",
   "metadata": {},
   "outputs": [
    {
     "name": "stdout",
     "output_type": "stream",
     "text": [
      "Time taken by reduction operation: 0.25975918769836426 seconds\n",
      "258 ms ± 2.55 ms per loop (mean ± std. dev. of 2 runs, 1 loop each)\n",
      "\n",
      " \t Computing the sum of numbers in the range [0, value): 499999500000\n",
      "\n"
     ]
    }
   ],
   "source": [
    "import time\n",
    "import sys\n",
    "\n",
    "def reduc_operation(a):\n",
    "    \"\"\"Compute the sum of the numbers in the range [0, a).\"\"\"\n",
    "    x = 0\n",
    "    for i in range(a):\n",
    "        x += i\n",
    "    return x\n",
    "\n",
    "# Secuencial\n",
    "\n",
    "value = int(sys.argv[1])\n",
    "\n",
    "initialTime = time.time()\n",
    "suma = reduc_operation(value)\n",
    "finalTime = time.time()\n",
    "\n",
    "print(\"Time taken by reduction operation:\", (finalTime - initialTime), \"seconds\")\n",
    "\n",
    "# Utilizando las operaciones mágicas de ipython\n",
    "%timeit -r 2 reduc_operation(value)\n",
    "\n",
    "print(f\"\\n \\t Computing the sum of numbers in the range [0, value): {suma}\\n\")"
   ]
  },
  {
   "cell_type": "markdown",
   "id": "62f0ff5f-9e6a-4da7-85e4-d8e09cd34024",
   "metadata": {},
   "source": [
    "### 3.2. Python HPC: lists y Numpy y Numba con Jupyter notebook"
   ]
  },
  {
   "cell_type": "code",
   "execution_count": 3,
   "id": "07e06e3d-59ca-44bc-879b-b6fffcd87eea",
   "metadata": {},
   "outputs": [
    {
     "name": "stdout",
     "output_type": "stream",
     "text": [
      "Resultado de la suma usando bucle for: 499999500000\n",
      "Tiempo con time usando un bucle for: 0.213181 segundos\n",
      "\n",
      "Tiempo con %timeit usando un bucle for:\n",
      "200 ms ± 9.4 ms per loop (mean ± std. dev. of 7 runs, 1 loop each)\n",
      "\n",
      "Resultado de la suma usando la función sum: 499999500000\n",
      "Tiempo con time usando la función sum: 0.036455 segundos\n",
      "\n",
      "Tiempo con %timeit usando la función sum:\n",
      "30.4 ms ± 1.25 ms per loop (mean ± std. dev. of 7 runs, 10 loops each)\n"
     ]
    }
   ],
   "source": [
    "# A) Crear una lista de Python con la función range que contenga 10^6 elementos y calcular el tiempo que tarda en sumar todos los elementos de dos maneras diferentes:\n",
    "import time  # Importamos la librería para medir el tiempo\n",
    "\n",
    "# Creamos una lista de Python con 10^6 elementos\n",
    "lista = list(range(value))\n",
    "\n",
    "def sumar_con_bucle(data):\n",
    "    \"\"\"Suma los elementos de una lista usando un bucle for.\"\"\"\n",
    "    total = 0\n",
    "    for num in data:\n",
    "        total += num\n",
    "    return total\n",
    "\n",
    "# Usamos un bucle for y medir el tiempo con time\n",
    "start = time.time()\n",
    "resultado_for = sumar_con_bucle(lista)\n",
    "end = time.time()\n",
    "print(f\"Resultado de la suma usando bucle for: {resultado_for}\")\n",
    "print(f\"Tiempo con time usando un bucle for: {end - start:.6f} segundos\")\n",
    "\n",
    "# Medimos el tiempo del bucle for con %timeit\n",
    "print(\"\\nTiempo con %timeit usando un bucle for:\")\n",
    "%timeit sumar_con_bucle(lista)\n",
    "\n",
    "# Usamos la función sum y medir el tiempo con time\n",
    "start = time.time()\n",
    "resultado_sum = sum(lista)\n",
    "end = time.time()\n",
    "print(f\"\\nResultado de la suma usando la función sum: {resultado_sum}\")\n",
    "print(f\"Tiempo con time usando la función sum: {end - start:.6f} segundos\")\n",
    "\n",
    "# Medimos el tiempo de la función sum con %timeit\n",
    "print(\"\\nTiempo con %timeit usando la función sum:\")\n",
    "%timeit sum(lista)"
   ]
  },
  {
   "cell_type": "code",
   "execution_count": 5,
   "id": "bec130d5-e797-43d4-8207-2c890f9590b4",
   "metadata": {},
   "outputs": [
    {
     "name": "stdout",
     "output_type": "stream",
     "text": [
      "Resultado de la suma usando bucle for (numpy array): 499999500000\n",
      "Tiempo con time usando un bucle for (numpy array): 0.667306 segundos\n",
      "\n",
      "Tiempo con %timeit usando un bucle for (numpy array):\n",
      "654 ms ± 6.93 ms per loop (mean ± std. dev. of 7 runs, 1 loop each)\n",
      "\n",
      "Resultado de la suma usando numpy.sum: 499999500000\n",
      "Tiempo con time usando numpy.sum: 0.003282 segundos\n",
      "\n",
      "Tiempo con %timeit usando numpy.sum:\n",
      "1.41 ms ± 9.23 µs per loop (mean ± std. dev. of 7 runs, 1,000 loops each)\n"
     ]
    }
   ],
   "source": [
    "# B) Pasar la lista creada a un array de Numpy. Calcular el tiempo en sumar todos los elementos del array:\n",
    "import time  # Importamos la librería para medir el tiempo\n",
    "import numpy as np  # Importamos numpy para trabajar con arrays\n",
    "\n",
    "# Creamos una lista con 10^6 elementos (ya creada anteriormente)\n",
    "lista = list(range(value))\n",
    "\n",
    "# Convertimos la lista a un array de numpy\n",
    "array = np.array(lista)\n",
    "\n",
    "def sumar_con_bucle(data):\n",
    "    \"\"\"Suma los elementos de una lista o array usando un bucle for.\"\"\"\n",
    "    total = 0\n",
    "    for num in data:\n",
    "        total += num\n",
    "    return total\n",
    "\n",
    "# a) Usar un bucle for y medir el tiempo con time en numpy array\n",
    "start = time.time()\n",
    "resultado_for_array = sumar_con_bucle(array)\n",
    "end = time.time()\n",
    "print(f\"Resultado de la suma usando bucle for (numpy array): {resultado_for_array}\")\n",
    "print(f\"Tiempo con time usando un bucle for (numpy array): {end - start:.6f} segundos\")\n",
    "\n",
    "# Medir el tiempo del bucle for con %timeit en numpy array\n",
    "print(\"\\nTiempo con %timeit usando un bucle for (numpy array):\")\n",
    "%timeit sumar_con_bucle(array)\n",
    "\n",
    "# b) Usar la función sum de numpy y medir el tiempo con time\n",
    "start = time.time()\n",
    "resultado_sum_array = np.sum(array)\n",
    "end = time.time()\n",
    "print(f\"\\nResultado de la suma usando numpy.sum: {resultado_sum_array}\")\n",
    "print(f\"Tiempo con time usando numpy.sum: {end - start:.6f} segundos\")\n",
    "\n",
    "# Medir el tiempo de la función sum de numpy con %timeit\n",
    "print(\"\\nTiempo con %timeit usando numpy.sum:\")\n",
    "%timeit np.sum(array)"
   ]
  },
  {
   "cell_type": "markdown",
   "id": "afc65c54-b1e0-441b-902a-42bc02ec8fd0",
   "metadata": {},
   "source": [
    "C) EXPLICACIÓN DE LOS RESULTADOS:\n",
    "\n",
    "El código original utiliza un bucle for para calcular la suma de un rango de números, obteniendo un tiempo de ejecución de aproximadamente 0.259 segundos con el método time. Al medir con %timeit, el tiempo promedio es de 258 ms ± 2.55 ms por loop, lo cual refleja la sobrecarga significativa del intérprete de Python al manejar iteraciones grandes. Este método es funcional, pero relativamente lento al operar con grandes cantidades de datos.\n",
    "\n",
    "Cuando utilizamos listas, observamos una clara diferencia entre dos métodos: el bucle for, que tiene un tiempo de ejecución de aproximadamente 0.213 segundos con time y un promedio de 200 ms ± 9.4 ms por loop con %timeit, es más lento debido a la estructura dinámica de las listas. Por otro lado, la función sum reduce el tiempo de ejecución significativamente, a aproximadamente 0.036 segundos con time y 30.4 ms ± 1.25 ms por loop con %timeit. Esto ocurre porque sum utiliza optimizaciones internas que mejoran su eficiencia.\n",
    "\n",
    "Al utilizar arrays de NumPy, el tiempo de ejecución varía notablemente según el método empleado. El bucle for, con un tiempo de 0.667 segundos con time y un promedio de 654 ms ± 6.93 ms por loop con %timeit, es el más lento, ya que no aprovecha las optimizaciones de NumPy y sigue dependiendo del intérprete de Python. Sin embargo, al usar la función optimizada np.sum, el tiempo de ejecución se reduce drásticamente a 0.003 segundos con time y 1.41 ms ± 9.23 µs por loop con %timeit. Esto se debe a que NumPy implementa operaciones vectorizadas en C, eliminando la sobrecarga de Python.\n",
    "\n",
    "En conclusión, el código original y los métodos basados en bucles son intuitivos, pero significativamente más lentos para manejar grandes cantidades de datos. Las funciones optimizadas como sum y, especialmente, np.sum, son mucho más rápidas debido a su capacidad para aprovechar optimizaciones internas y operaciones vectorizadas."
   ]
  },
  {
   "cell_type": "markdown",
   "id": "1f3752eb-169f-41bd-9eb7-592eb4c9453f",
   "metadata": {},
   "source": [
    "### 3.3. Python HPC: Numba con Jupyter notebook y uso de colas"
   ]
  },
  {
   "cell_type": "code",
   "execution_count": 2,
   "id": "e7288f98-387f-496b-a3bc-aaf45d76c6fb",
   "metadata": {},
   "outputs": [
    {
     "name": "stdout",
     "output_type": "stream",
     "text": [
      "Resultado de la suma usando sumar_numba: 499999500000\n",
      "Tiempo de la primera ejecución (compilación + ejecución): 0.477141 segundos\n",
      "Tiempo de la segunda ejecución (solo ejecución): 0.002087 segundos\n",
      "\n",
      "Resultado de la suma usando np.sum: 499999500000\n",
      "Tiempo con np.sum: 0.001946 segundos\n"
     ]
    }
   ],
   "source": [
    "# APARTADO A\n",
    "import numpy as np\n",
    "from numba import njit\n",
    "import time\n",
    "\n",
    "# Creamos el array de NumPy\n",
    "array = np.array(range(value))\n",
    "\n",
    "# Función con bucle for optimizada con Numba\n",
    "@njit\n",
    "def sumar_numba(data):\n",
    "    \"\"\"Suma los elementos de un array usando un bucle for optimizado con Numba.\"\"\"\n",
    "    total = 0\n",
    "    for num in data:\n",
    "        total += num\n",
    "    return total\n",
    "    \n",
    "# La primera vez que se ejecuta una función decorada con @njit, el código se compila justo\n",
    "# a tiempo (JIT, Just-In-Time). Este proceso implica traducir el código Python a un formato\n",
    "# de máquina altamente optimizado para la plataforma específica en la que se ejecuta.\n",
    "# Debido a esta compilación inicial, la primera ejecución suele ser más lenta.\n",
    "\n",
    "# Comparamos:\n",
    "\n",
    "# Primera ejecución (compilación + ejecución)\n",
    "start = time.time()\n",
    "resultado_numba = sumar_numba(array)\n",
    "end = time.time()\n",
    "print(f\"Resultado de la suma usando sumar_numba: {resultado_numba}\")\n",
    "print(f\"Tiempo de la primera ejecución (compilación + ejecución): {end - start:.6f} segundos\")\n",
    "\n",
    "# Segunda ejecución (solo ejecución)\n",
    "start = time.time()\n",
    "resultado_numba = sumar_numba(array)\n",
    "end = time.time()\n",
    "print(f\"Tiempo de la segunda ejecución (solo ejecución): {end - start:.6f} segundos\")\n",
    "\n",
    "# Función para sumar usando np.sum\n",
    "# Nota: np.sum ya está altamente optimizado, Numba no mejora su rendimiento\n",
    "\n",
    "def suma_numpy(data):\n",
    "    \"\"\"Suma los elementos de un array usando np.sum.\"\"\"\n",
    "    return np.sum(data)\n",
    "\n",
    "# Medimos tiempo de ejecución con np.sum\n",
    "start = time.time()\n",
    "resultado_numpy = suma_numpy(array)\n",
    "end = time.time()\n",
    "print(f\"\\nResultado de la suma usando np.sum: {resultado_numpy}\")\n",
    "print(f\"Tiempo con np.sum: {end - start:.6f} segundos\")"
   ]
  },
  {
   "cell_type": "markdown",
   "id": "2e83c0d3-92c8-4091-8d90-39a1c0596e73",
   "metadata": {},
   "source": [
    "B) EXPLICACIÓN DE LOS RESULTADOS\n",
    "\n",
    "Al usar Numba, vemos cómo hemos podido reducir los tiempos de ejecución al compilar el código Python directamente a nivel máquina. El bucle optimizado con Numba tarda aproximadamente solo 0.002087 segundos en la segunda ejecución, una mejora notable frente al código original. Durante la primera ejecución, que incluye la compilación, el tiempo fue de 0.477141 segundos.\n",
    "\n",
    "Además, al aplicar Numba a np.sum, el tiempo se mantiene altamente eficiente con un tiempo de ejecución de 0.001946 segundos. Esto se debe a que np.sum ya está optimizado a nivel interno, aprovechando operaciones vectorizadas en C, y Numba refuerza aún más estas optimizaciones."
   ]
  },
  {
   "cell_type": "code",
   "execution_count": null,
   "id": "2d2b3486-8b1c-4631-8a32-7ab0c10891f4",
   "metadata": {},
   "outputs": [],
   "source": []
  }
 ],
 "metadata": {
  "kernelspec": {
   "display_name": "Python 3 (ipykernel)",
   "language": "python",
   "name": "python3"
  },
  "language_info": {
   "codemirror_mode": {
    "name": "ipython",
    "version": 3
   },
   "file_extension": ".py",
   "mimetype": "text/x-python",
   "name": "python",
   "nbconvert_exporter": "python",
   "pygments_lexer": "ipython3",
   "version": "3.10.9"
  }
 },
 "nbformat": 4,
 "nbformat_minor": 5
}
